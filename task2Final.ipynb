{
 "cells": [
  {
   "cell_type": "markdown",
   "metadata": {},
   "source": [
    "<h1> Assignment 1 - Task 2 Solution </h1>\n",
    "\n",
    "Student name: Ngo Vu Anh </br>\n",
    "UOW ID: 7673541   </br>\n",
    "Tutorial Group: T02   "
   ]
  },
  {
   "cell_type": "markdown",
   "metadata": {},
   "source": [
    "<h1> Import tools </h1>"
   ]
  },
  {
   "cell_type": "code",
   "execution_count": null,
   "metadata": {},
   "outputs": [],
   "source": [
    "import numpy as np\n",
    "import pandas as pd\n",
    "from collections import Counter\n"
   ]
  },
  {
   "cell_type": "markdown",
   "metadata": {},
   "source": [
    "<h1> Import the data </h1>"
   ]
  },
  {
   "cell_type": "code",
   "execution_count": null,
   "metadata": {},
   "outputs": [],
   "source": [
    "test_file = 'customer_churn_dataset-testing-master.csv'\n",
    "train_file = 'customer_churn_dataset-training-master.csv'\n",
    "\n",
    "test_df = pd.read_csv(test_file)\n",
    "train_df = pd.read_csv(train_file)\n",
    "\n",
    "# Combine train df and test df\n",
    "\n",
    "train_df = pd.concat([train_df, test_df], axis=0)\n",
    "\n",
    "# Reset the index of the combined DataFrame\n",
    "train_df.reset_index(drop=True, inplace=True)\n",
    "\n",
    "# Select a portion of the data\n",
    "train_df = train_df.sample(n=50000, random_state=42)"
   ]
  },
  {
   "cell_type": "markdown",
   "metadata": {},
   "source": [
    "<h1> Data preprocessing </h1>"
   ]
  },
  {
   "cell_type": "code",
   "execution_count": null,
   "metadata": {},
   "outputs": [],
   "source": [
    "# Drop missing values \n",
    "\n",
    "train_df = train_df.dropna()\n",
    "test_df = test_df.dropna()"
   ]
  },
  {
   "cell_type": "code",
   "execution_count": null,
   "metadata": {},
   "outputs": [],
   "source": [
    "# Z Score normalization for Last Interaction \n",
    "\n",
    "normalized_last_interaction = (train_df['Last Interaction'] - train_df['Last Interaction'].mean()) / train_df['Last Interaction'].std()\n",
    "normalized_last_interaction_test = (test_df['Last Interaction'] - test_df['Last Interaction'].mean()) / test_df['Last Interaction'].std()\n",
    "\n",
    "# Replace the previous Last Interaction with new one \n",
    "train_df['Last Interaction'] = normalized_last_interaction\n",
    "test_df['Last Interaction'] = normalized_last_interaction_test"
   ]
  },
  {
   "cell_type": "code",
   "execution_count": null,
   "metadata": {},
   "outputs": [],
   "source": [
    "# Create 5 bins for attribute Total Spend \n",
    "\n",
    "bin_labels = ['Bin 1', 'Bin 2', 'Bin 3', 'Bin 4', 'Bin 5']\n",
    "\n",
    "train_df['Total Spend'] = pd.cut(train_df['Total Spend'], bins=5, labels=bin_labels)\n",
    "test_df['Total Spend'] = pd.cut(test_df['Total Spend'], bins=5, labels=bin_labels)"
   ]
  },
  {
   "cell_type": "code",
   "execution_count": null,
   "metadata": {},
   "outputs": [],
   "source": [
    "train_df.head()"
   ]
  },
  {
   "cell_type": "code",
   "execution_count": null,
   "metadata": {},
   "outputs": [],
   "source": [
    "# Drop unecessary columns \n",
    "\n",
    "train_df.drop('CustomerID', axis=1, inplace=True)\n",
    "test_df.drop('CustomerID', axis=1, inplace = True)\n",
    "\n",
    "# Drop gender to ensure equality \n",
    "train_df.drop('Gender', axis=1, inplace=True)\n",
    "test_df.drop('Gender', axis=1, inplace = True)\n"
   ]
  },
  {
   "cell_type": "markdown",
   "metadata": {},
   "source": [
    "<h1> Prepare decision tree classifier </h1>"
   ]
  },
  {
   "cell_type": "markdown",
   "metadata": {},
   "source": [
    "<h2> Node Class </h2> "
   ]
  },
  {
   "cell_type": "markdown",
   "metadata": {},
   "source": [
    "<h2> Tree class </h2> "
   ]
  },
  {
   "cell_type": "code",
   "execution_count": null,
   "metadata": {},
   "outputs": [],
   "source": [
    "class Node:\n",
    "    def __init__(self, feature=None, threshold=None, left=None, right=None, gain=0, y=None, *, value=None):\n",
    "        self.feature = feature\n",
    "        self.threshold = threshold\n",
    "        self.left = left\n",
    "        self.right = right\n",
    "        self.value = value\n",
    "        self.gain = gain\n",
    "        self.y = y\n",
    "        self.count = Counter(y)\n",
    "\n",
    "    def is_leaf_node(self):\n",
    "        return self.value is not None\n",
    "\n",
    "\n",
    "class DecisionTree:\n",
    "    def __init__(self, min_samples_split=2, max_depth=100, depth=None, n_features=None, criterion=\"GINI\"):\n",
    "        self.labels = None\n",
    "        self.min_samples_split = min_samples_split\n",
    "        self.max_depth = max_depth\n",
    "        self.n_features = n_features\n",
    "        self.root = None\n",
    "        self.depth = depth if depth else 0\n",
    "        self.criterion = criterion\n",
    "\n",
    "    def fit(self, X, y):\n",
    "        self.n_features = X.shape[1] if not self.n_features else min(X.shape[1], self.n_features)\n",
    "        self.labels = X.columns\n",
    "        self.root = self._grow_tree(X, y)\n",
    "\n",
    "    def _grow_tree(self, X, y, depth=0):\n",
    "        n_samples, n_features = X.shape\n",
    "        n_labels = len(np.unique(y))\n",
    "\n",
    "        if depth >= self.max_depth or n_labels == 1 or n_samples < self.min_samples_split:\n",
    "            leaf_value = self._most_common_label(y)\n",
    "            return Node(value=leaf_value, y=y)\n",
    "\n",
    "        feat_idxs = np.random.choice(n_features, self.n_features, replace=False)\n",
    "        best_feature, best_threshold, best_gain = self._best_split(X, y, feat_idxs)\n",
    "\n",
    "        left_idxs, right_idxs = self._split(X.iloc[:, best_feature], best_threshold)\n",
    "        left = self._grow_tree(X.iloc[left_idxs, :], y.iloc[left_idxs], depth + 1)\n",
    "        right = self._grow_tree(X.iloc[right_idxs, :], y.iloc[right_idxs], depth + 1)\n",
    "        return Node(best_feature, best_threshold, left, right, best_gain, y)\n",
    "\n",
    "    def _best_split(self, X, y, feat_idxs):\n",
    "        best_gain = -1\n",
    "        best_split_idx, best_split_threshold = None, None\n",
    "\n",
    "        for feat_idx in feat_idxs:\n",
    "            X_column = X.iloc[:, feat_idx]\n",
    "            thresholds = np.unique(X_column)\n",
    "\n",
    "            for thr in thresholds:\n",
    "                if self.criterion == \"GINI\":\n",
    "                    gain = self._gini_gain(y, X_column, thr)\n",
    "                elif self.criterion == \"GAIN_RATIO\":\n",
    "                    gain = self._gain_ratio(y, X_column, thr)\n",
    "                else:\n",
    "                    gain = self._information_gain(y, X_column, thr)\n",
    "\n",
    "                if gain > best_gain:\n",
    "                    best_gain = gain\n",
    "                    best_split_idx = feat_idx\n",
    "                    best_split_threshold = thr\n",
    "\n",
    "        return best_split_idx, best_split_threshold, best_gain\n",
    "\n",
    "    def _gini_gain(self, y, X_column, threshold):\n",
    "        gini_base = self._get_gini(y)\n",
    "\n",
    "        left_idxs, right_idxs = self._split(X_column, threshold)\n",
    "        left_counts = Counter(y.iloc[left_idxs])\n",
    "        right_counts = Counter(y.iloc[right_idxs])\n",
    "\n",
    "        left_class0_count = Counter(left_counts).get(0, 0)\n",
    "        left_class1_count = Counter(left_counts).get(1, 0)\n",
    "        right_class0_count = Counter(right_counts).get(0, 0)\n",
    "        right_class1_count = Counter(right_counts).get(1, 0)\n",
    "\n",
    "        gini_left = self._gini_impurity(left_class0_count, left_class1_count)\n",
    "        gini_right = self._gini_impurity(right_class0_count, right_class1_count)\n",
    "\n",
    "        n_left = left_class0_count + left_class1_count\n",
    "        n_right = right_class0_count + right_class1_count\n",
    "\n",
    "        w_left = n_left / (n_left + n_right)\n",
    "        w_right = n_right / (n_left + n_right)\n",
    "\n",
    "        w_gini = w_left * gini_left + w_right * gini_right\n",
    "\n",
    "        gini_gain = gini_base - w_gini\n",
    "        return gini_gain\n",
    "\n",
    "    def _get_gini(self, y):\n",
    "        class0_count = Counter(y).get(0, 0)\n",
    "        class1_count = Counter(y).get(1, 0)\n",
    "        return self._gini_impurity(class0_count, class1_count)\n",
    "\n",
    "    def _gini_impurity(self, class0_count, class1_count):\n",
    "        if class0_count is None:\n",
    "            class0_count = 0\n",
    "        if class1_count is None:\n",
    "            class1_count = 0\n",
    "        n = class0_count + class1_count\n",
    "\n",
    "        if n == 0:\n",
    "            return 0.0\n",
    "\n",
    "        p0 = class0_count / n\n",
    "        p1 = class1_count / n\n",
    "        gini = 1 - (p0 ** 2 + p1 ** 2)\n",
    "        return gini\n",
    "\n",
    "    def _gain_ratio(self, y, X_column, threshold):\n",
    "        parent_entropy = self._entropy(y)\n",
    "        left_idxs, right_idxs = self._split(X_column, threshold)\n",
    "        if len(left_idxs) == 0 or len(right_idxs) == 0:\n",
    "            return 0\n",
    "\n",
    "        n = len(y)\n",
    "        n_left, n_right = len(left_idxs), len(right_idxs)\n",
    "        e_left, e_right = self._entropy(y.iloc[left_idxs]), self._entropy(y.iloc[right_idxs])\n",
    "        child_entropy = (n_left / n) * e_left + (n_right / n) * e_right\n",
    "\n",
    "        information_gain = parent_entropy - child_entropy\n",
    "\n",
    "        split_info = -(n_left / n * np.log(n_left / n) + n_right / n * np.log(n_right / n))\n",
    "\n",
    "        return information_gain / split_info\n",
    "\n",
    "    def _information_gain(self, y, X_column, threshold):\n",
    "        parent_entropy = self._entropy(y)\n",
    "        left_idxs, right_idxs = self._split(X_column, threshold)\n",
    "        if len(left_idxs) == 0 or len(right_idxs) == 0:\n",
    "            return 0\n",
    "\n",
    "        n = len(y)\n",
    "        n_left, n_right = len(left_idxs), len(right_idxs)\n",
    "        e_left, e_right = self._entropy(y.iloc[left_idxs]), self._entropy(y.iloc[right_idxs])\n",
    "        child_entropy = (n_left / n) * e_left + (n_right / n) * e_right\n",
    "\n",
    "        information_gain = parent_entropy - child_entropy\n",
    "        return information_gain\n",
    "\n",
    "    def _split(self, X_column, split_threshold):\n",
    "        left_idxs = np.argwhere(X_column.to_numpy() <= split_threshold).flatten()\n",
    "        right_idxs = np.argwhere(X_column.to_numpy() > split_threshold).flatten()\n",
    "        return left_idxs, right_idxs\n",
    "\n",
    "    def _entropy(self, y):\n",
    "        hist = np.bincount(y)\n",
    "        ps = hist / len(y)\n",
    "        return -np.sum([p * np.log(p) for p in ps if p > 0])\n",
    "\n",
    "    def _most_common_label(self, y):\n",
    "        counter = Counter(y)\n",
    "        if len(Counter(y).most_common(1)) == 0:\n",
    "            value = None\n",
    "        else:\n",
    "            value = counter.most_common(1)[0][0]\n",
    "        return value\n",
    "\n",
    "    def predict(self, X):\n",
    "        return np.array([self._traverse_tree(x, self.root) for idx, x in X.iterrows()])\n",
    "\n",
    "    def _traverse_tree(self, x, node):\n",
    "        if node.is_leaf_node() or node.feature is None:\n",
    "            return node.value\n",
    "        if x[node.feature] <= node.threshold:\n",
    "            return self._traverse_tree(x, node.left)\n",
    "        return self._traverse_tree(x, node.right)\n",
    "\n",
    "    def counter_to_str(self, counter: Counter):\n",
    "        inside = [f\"{key}: {value}\" for key, value in counter.items()]\n",
    "        return f\"({', '.join(inside)})\"\n",
    "\n",
    "    def print_info(self, node, depth):\n",
    "        if node.feature is None:\n",
    "            return\n",
    "\n",
    "        preamble0 = ' ' * depth * 2 + ('\\t\\t' if depth > 0 else '')\n",
    "\n",
    "        print(f\"{preamble0} {self.labels[node.feature]} <= {node.threshold} ? {node.gain}\")\n",
    "\n",
    "        self.print_info(node.left, depth + 1)\n",
    "        self.print_info(node.right, depth + 1)\n",
    "\n",
    "    def print_tree(self):\n",
    "        self.print_info(self.root, 0)\n"
   ]
  },
  {
   "cell_type": "markdown",
   "metadata": {},
   "source": [
    "<h2> Create cross validation </h2>"
   ]
  },
  {
   "cell_type": "code",
   "execution_count": null,
   "metadata": {},
   "outputs": [],
   "source": [
    "train = train_df.sample(frac=0.6, random_state= 40)\n",
    "\n",
    "test = train_df.drop(train.index)\n",
    "\n",
    "# Set up the train and target\n",
    "\n",
    "X_train = train[train.columns[:-1]]\n",
    "X_test = test[test.columns[:-1]]\n",
    "y_train = train['Churn']\n",
    "y_test = test['Churn']\n"
   ]
  },
  {
   "cell_type": "code",
   "execution_count": null,
   "metadata": {},
   "outputs": [],
   "source": [
    "# Initialize a decision tree - Information gain\n",
    "clf = DecisionTree(max_depth=20, criterion=\"\")\n",
    "clf.fit(X_train, y_train)\n",
    "\n",
    "predictions_info_gain = clf.predict(X_test)\n",
    "predictions_info_gain_train = clf.predict(X_train)\n",
    "\n",
    "print(\"Root\")\n",
    "clf.print_tree()"
   ]
  },
  {
   "cell_type": "code",
   "execution_count": null,
   "metadata": {},
   "outputs": [],
   "source": [
    "# Check accuracy of the Decision Tree\n",
    "def accuracy(y_test, y_pred):\n",
    "    return np.sum(y_test == y_pred) / len(y_test)\n",
    "acc = accuracy(y_test, predictions_info_gain)\n",
    "\n",
    "acc_train = accuracy(y_train, predictions_info_gain_train)\n",
    "\n",
    "print(\"Training set accuracy: \", acc_train)\n",
    "print(\"Test set accuracy: \", acc)"
   ]
  },
  {
   "cell_type": "code",
   "execution_count": null,
   "metadata": {},
   "outputs": [],
   "source": [
    "# Initialize a decision tree - Gain Ratio\n",
    "\n",
    "clf_gain = DecisionTree(max_depth=20, criterion=\"GAIN_RATIO\")\n",
    "clf_gain.fit(X_train, y_train)\n",
    "\n",
    "predictions_gain_ratio = clf_gain.predict(X_test)\n",
    "predictions_gain_ratio_train = clf_gain.predict(X_train)\n",
    "\n",
    "# Initialize a decision tree - Gini Index\n",
    "\n",
    "clf_gini = DecisionTree(max_depth=20, criterion=\"GINI\")\n",
    "clf_gini.fit(X_train, y_train)\n",
    "\n",
    "predictions_gini = clf_gini.predict(X_test)\n",
    "predictions_gini_train = clf_gini.predict(X_train)\n",
    "\n"
   ]
  },
  {
   "cell_type": "markdown",
   "metadata": {},
   "source": [
    "## Voting function"
   ]
  },
  {
   "cell_type": "code",
   "execution_count": null,
   "metadata": {},
   "outputs": [],
   "source": [
    "def voting(predictions_info_gain, predictions_gini, predictions_gain_ratio):\n",
    "    ensemble_predictions = []\n",
    "\n",
    "    for pred_info_gain, pred_gini, pred_gain_ratio in zip(predictions_info_gain, predictions_gini, predictions_gain_ratio):\n",
    "        # Initialize votes dictionary to count the votes for each class label\n",
    "        votes = {}\n",
    "        for pred in [pred_info_gain, pred_gini, pred_gain_ratio]:\n",
    "            if pred not in votes:\n",
    "                votes[pred] = 0\n",
    "            votes[pred] += 1\n",
    "\n",
    "        # Get the class label with the highest votes (majority vote)\n",
    "        majority_vote = max(votes, key=votes.get)\n",
    "        ensemble_predictions.append(majority_vote)\n",
    "\n",
    "    return ensemble_predictions\n"
   ]
  },
  {
   "cell_type": "code",
   "execution_count": null,
   "metadata": {},
   "outputs": [],
   "source": [
    "ensemble_predictions = voting(predictions_info_gain, predictions_gini, predictions_gain_ratio)\n",
    "\n",
    "# Check accuracy of the Decision Tree\n",
    "def accuracy(y_test, y_pred):\n",
    "    return np.sum(y_test == y_pred) / len(y_test)\n",
    "acc = accuracy(y_test, ensemble_predictions)\n",
    "\n",
    "print(\"Test set accuracy: \", acc)"
   ]
  },
  {
   "cell_type": "markdown",
   "metadata": {},
   "source": [
    "The voting function has chosen the method to split the decision tree that can gain the highest accuracy. And the highest accuracy can be achieved is 89%"
   ]
  }
 ],
 "metadata": {
  "kernelspec": {
   "display_name": "base",
   "language": "python",
   "name": "python3"
  },
  "language_info": {
   "codemirror_mode": {
    "name": "ipython",
    "version": 3
   },
   "file_extension": ".py",
   "mimetype": "text/x-python",
   "name": "python",
   "nbconvert_exporter": "python",
   "pygments_lexer": "ipython3",
   "version": "3.10.9"
  },
  "orig_nbformat": 4
 },
 "nbformat": 4,
 "nbformat_minor": 2
}
